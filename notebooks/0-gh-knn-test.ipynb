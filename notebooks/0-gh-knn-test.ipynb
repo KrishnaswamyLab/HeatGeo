{
 "cells": [
  {
   "cell_type": "code",
   "execution_count": 1,
   "metadata": {},
   "outputs": [],
   "source": [
    "from src.knn_methods import KNNClassifier\n",
    "from src.dataset import SwissRoll\n",
    "import pandas as pd\n",
    "import graphtools as gt\n",
    "import os\n",
    "import pickle\n",
    "from omegaconf import DictConfig, OmegaConf\n",
    "import matplotlib.pyplot as plt\n"
   ]
  },
  {
   "cell_type": "code",
   "execution_count": 2,
   "metadata": {},
   "outputs": [],
   "source": [
    "def load_results(path):\n",
    "    results = pd.DataFrame()\n",
    "    for root, dirs, files in os.walk(path):\n",
    "        for filename in files:\n",
    "            if filename.endswith(\"_0.pkl\"):\n",
    "                dt_current = pd.read_pickle(os.path.join(root, filename))\n",
    "                results = pd.concat([results,dt_current])\n",
    "    return results"
   ]
  },
  {
   "cell_type": "code",
   "execution_count": 9,
   "metadata": {},
   "outputs": [
    {
     "name": "stdout",
     "output_type": "stream",
     "text": [
      "\\begin{tabular}{lrrrrrrrrr}\n",
      "\\toprule\n",
      "{} &  SpearmanR &  PearsonR &  Norm Fro &  Norm inf &  Norm Fro N2 &  Norm inf N2 &   P@20 &   P@40 &  time(s) \\\\\n",
      "Method         &            &           &           &           &              &              &        &        &          \\\\\n",
      "\\midrule\n",
      "Euc            &      0.392 &     0.344 &     2.737 &     2.386 &        0.053 &        0.058 &  0.819 &  0.790 &    0.092 \\\\\n",
      "diff-map       &      0.535 &     0.521 &     0.937 &     0.936 &        0.018 &        0.023 &  0.821 &  0.859 &    0.111 \\\\\n",
      "euler-heat-geo &      0.905 &     0.883 &     2.713 &     2.632 &        0.053 &        0.064 &  0.806 &  0.924 &    0.102 \\\\\n",
      "heat-geo       &      0.815 &     0.755 &   136.689 &   120.584 &        2.666 &        2.914 &  0.828 &  0.926 &    0.099 \\\\\n",
      "heat-phate     &      0.786 &     0.765 &    67.313 &    56.410 &        1.313 &        1.364 &  0.818 &  0.901 &    0.096 \\\\\n",
      "mar-heat-geo   &      0.818 &     0.765 &     4.526 &     3.833 &        0.088 &        0.093 &  0.827 &  0.927 &    0.148 \\\\\n",
      "phate          &      0.835 &     0.821 &    23.331 &    19.503 &        0.455 &        0.472 &  0.825 &  0.920 &    0.144 \\\\\n",
      "shortest-path  &      0.365 &     0.292 &     3.105 &     2.664 &        0.061 &        0.064 &  0.819 &  0.790 &    0.096 \\\\\n",
      "\\bottomrule\n",
      "\\end{tabular}\n",
      "\n"
     ]
    },
    {
     "name": "stderr",
     "output_type": "stream",
     "text": [
      "/tmp/ipykernel_13170/1491523451.py:2: FutureWarning: In future versions `DataFrame.to_latex` is expected to utilise the base implementation of `Styler.to_latex` for formatting and rendering. The arguments signature may therefore change. It is recommended instead to use `DataFrame.style.to_latex` which also contains additional functionality.\n",
      "  print(df[[\"Method\", \"SpearmanR\", \"PearsonR\", \"Norm Fro\", \"Norm inf\", \"Norm Fro N2\", \"Norm inf N2\", \"P@20\", \"P@40\", \"time(s)\" ]].groupby([\"Method\"]).mean().round(3).to_latex())\n"
     ]
    }
   ],
   "source": [
    "# Default swiss roll on 200 points\n",
    "df = load_results(\"/network/scratch/g/guillaume.huguet/projects/metric_embeddings/logs/experiments/multiruns/knn_sampta/2023-03-28_08-16-14\")\n",
    "print(df[[\"Method\", \"SpearmanR\", \"PearsonR\", \"Norm Fro\", \"Norm inf\", \"Norm Fro N2\", \"Norm inf N2\", \"P@20\", \"P@40\", \"time(s)\" ]].groupby([\"Method\"]).mean().round(3).to_latex())"
   ]
  },
  {
   "cell_type": "code",
   "execution_count": 10,
   "metadata": {},
   "outputs": [
    {
     "name": "stdout",
     "output_type": "stream",
     "text": [
      "\\begin{tabular}{lrrrrrrrrr}\n",
      "\\toprule\n",
      "{} &  SpearmanR &  PearsonR &  Norm Fro &  Norm inf &  Norm Fro N2 &  Norm inf N2 &   P@20 &   P@40 &  time(s) \\\\\n",
      "Method         &            &           &           &           &              &              &        &        &          \\\\\n",
      "\\midrule\n",
      "Euc            &      0.266 &     0.266 &     2.391 &     2.169 &        0.005 &        0.006 &  0.337 &  0.396 &    1.898 \\\\\n",
      "diff-map       &      0.199 &     0.281 &     0.957 &     0.958 &        0.002 &        0.003 &  0.333 &  0.392 &    5.737 \\\\\n",
      "euler-heat-geo &      0.893 &     0.849 &     7.612 &     6.685 &        0.017 &        0.019 &  0.308 &  0.377 &    3.029 \\\\\n",
      "heat-geo       &      0.589 &     0.541 &   153.574 &   122.678 &        0.335 &        0.346 &  0.339 &  0.401 &    2.364 \\\\\n",
      "heat-phate     &      0.531 &     0.576 &   147.911 &   112.950 &        0.323 &        0.319 &  0.284 &  0.310 &    3.586 \\\\\n",
      "mar-heat-geo   &      0.589 &     0.552 &     4.875 &     3.886 &        0.011 &        0.011 &  0.338 &  0.401 &    2.267 \\\\\n",
      "phate          &      0.531 &     0.569 &    49.767 &    37.739 &        0.109 &        0.107 &  0.275 &  0.299 &    6.641 \\\\\n",
      "shortest-path  &      0.769 &     0.762 &     5.700 &     5.799 &        0.012 &        0.016 &  0.337 &  0.396 &    5.094 \\\\\n",
      "\\bottomrule\n",
      "\\end{tabular}\n",
      "\n"
     ]
    },
    {
     "name": "stderr",
     "output_type": "stream",
     "text": [
      "/tmp/ipykernel_13170/4261927324.py:3: FutureWarning: In future versions `DataFrame.to_latex` is expected to utilise the base implementation of `Styler.to_latex` for formatting and rendering. The arguments signature may therefore change. It is recommended instead to use `DataFrame.style.to_latex` which also contains additional functionality.\n",
      "  print(df[[\"Method\", \"SpearmanR\", \"PearsonR\", \"Norm Fro\", \"Norm inf\", \"Norm Fro N2\", \"Norm inf N2\", \"P@20\", \"P@40\", \"time(s)\" ]].groupby([\"Method\"]).mean().round(3).to_latex())\n"
     ]
    }
   ],
   "source": [
    "# Rotated swiss roll on 2000 points 5 width in 10 dimensions.\n",
    "df = load_results(\"/network/scratch/g/guillaume.huguet/projects/metric_embeddings/logs/experiments/multiruns/knn_sampta/2023-03-28_08-21-22\")\n",
    "print(df[[\"Method\", \"SpearmanR\", \"PearsonR\", \"Norm Fro\", \"Norm inf\", \"Norm Fro N2\", \"Norm inf N2\", \"P@20\", \"P@40\", \"time(s)\" ]].groupby([\"Method\"]).mean().round(3).to_latex())\n"
   ]
  },
  {
   "cell_type": "code",
   "execution_count": 11,
   "metadata": {},
   "outputs": [
    {
     "name": "stdout",
     "output_type": "stream",
     "text": [
      "\\begin{tabular}{lrrrrrrr}\n",
      "\\toprule\n",
      "{} &  SpearmanR &  PearsonR &  Norm Fro N2 &  Norm inf N2 &   P@20 &   P@40 &  time(s) \\\\\n",
      "Method         &            &           &              &              &        &        &          \\\\\n",
      "\\midrule\n",
      "Euc            &      0.269 &     0.270 &        0.005 &        0.006 &  0.426 &  0.438 &    1.880 \\\\\n",
      "euler-heat-geo &      0.812 &     0.591 &        0.004 &        0.004 &  0.420 &  0.440 &    2.796 \\\\\n",
      "heat-geo       &      0.534 &     0.418 &        0.033 &        0.034 &  0.424 &  0.442 &    2.251 \\\\\n",
      "heat-phate     &      0.443 &     0.525 &        0.306 &        0.307 &  0.312 &  0.309 &    3.548 \\\\\n",
      "mar-heat-geo   &      0.535 &     0.426 &        0.002 &        0.003 &  0.425 &  0.443 &    2.249 \\\\\n",
      "phate          &      0.482 &     0.541 &        0.105 &        0.105 &  0.314 &  0.311 &    6.815 \\\\\n",
      "shortest-path  &      0.890 &     0.895 &        0.016 &        0.023 &  0.426 &  0.438 &    5.014 \\\\\n",
      "\\bottomrule\n",
      "\\end{tabular}\n",
      "\n"
     ]
    },
    {
     "name": "stderr",
     "output_type": "stream",
     "text": [
      "/tmp/ipykernel_13170/1795573082.py:3: FutureWarning: In future versions `DataFrame.to_latex` is expected to utilise the base implementation of `Styler.to_latex` for formatting and rendering. The arguments signature may therefore change. It is recommended instead to use `DataFrame.style.to_latex` which also contains additional functionality.\n",
      "  print(df[[\"Method\", \"SpearmanR\", \"PearsonR\",\"Norm Fro N2\", \"Norm inf N2\", \"P@20\", \"P@40\", \"time(s)\" ]].groupby([\"Method\"]).mean().round(3).to_latex())\n"
     ]
    }
   ],
   "source": [
    "# Rotated swiss roll on 2000 points 5 width in 10 dimensions.\n",
    "df = load_results(\"/network/scratch/g/guillaume.huguet/projects/metric_embeddings/logs/experiments/multiruns/knn_sampta/2023-03-28_08-27-29\")\n",
    "print(df[[\"Method\", \"SpearmanR\", \"PearsonR\",\"Norm Fro N2\", \"Norm inf N2\", \"P@20\", \"P@40\", \"time(s)\" ]].groupby([\"Method\"]).mean().round(3).to_latex())\n"
   ]
  },
  {
   "cell_type": "code",
   "execution_count": 12,
   "metadata": {},
   "outputs": [
    {
     "name": "stdout",
     "output_type": "stream",
     "text": [
      "\\begin{tabular}{lrrrrrrr}\n",
      "\\toprule\n",
      "{} &  SpearmanR &  PearsonR &  Norm Fro N2 &  Norm inf N2 &   P@20 &   P@40 &  time(s) \\\\\n",
      "Method        &            &           &              &              &        &        &          \\\\\n",
      "\\midrule\n",
      "Euc           &      0.248 &     0.240 &        0.005 &        0.008 &  0.158 &  0.237 &    1.903 \\\\\n",
      "diff-map      &      0.214 &     0.307 &        0.002 &        0.003 &  0.160 &  0.239 &    5.729 \\\\\n",
      "heat-geo      &      0.258 &     0.225 &        0.513 &        0.560 &  0.161 &  0.241 &    2.465 \\\\\n",
      "heat-phate    &      0.209 &     0.210 &        0.353 &        0.376 &  0.153 &  0.224 &    3.579 \\\\\n",
      "mar-heat-geo  &      0.261 &     0.228 &        0.013 &        0.014 &  0.160 &  0.242 &    2.488 \\\\\n",
      "phate         &      0.197 &     0.197 &        0.113 &        0.120 &  0.147 &  0.211 &    7.154 \\\\\n",
      "shortest-path &      0.242 &     0.227 &        0.006 &        0.008 &  0.158 &  0.237 &    5.479 \\\\\n",
      "\\bottomrule\n",
      "\\end{tabular}\n",
      "\n"
     ]
    },
    {
     "name": "stderr",
     "output_type": "stream",
     "text": [
      "/tmp/ipykernel_13170/2136065720.py:6: FutureWarning: In future versions `DataFrame.to_latex` is expected to utilise the base implementation of `Styler.to_latex` for formatting and rendering. The arguments signature may therefore change. It is recommended instead to use `DataFrame.style.to_latex` which also contains additional functionality.\n",
      "  print(df[[\"Method\", \"SpearmanR\", \"PearsonR\",\"Norm Fro N2\", \"Norm inf N2\", \"P@20\", \"P@40\", \"time(s)\" ]].groupby([\"Method\"]).mean().round(3).to_latex())\n"
     ]
    }
   ],
   "source": [
    "# Rotated swiss roll on 2000 points 5 width in 10 dimensions.\n",
    "#python test_knn.py -m model=heat_geo,diff_map,euc,euler_heat,heat_phate,phate,shortest_path,heat_geo_mar \n",
    "#fit_args.order=10 n_seeds=10 name=knn_sampta fit_args.tau_min=10 fit_args.tau_max=10 fit_args.n_tau=1 fit_args.tau=10 \n",
    "#data=swiss_roll_high data.manifold_noise=1.5\n",
    "df = load_results(\"/network/scratch/g/guillaume.huguet/projects/metric_embeddings/logs/experiments/multiruns/knn_sampta/2023-03-28_08-31-53\")\n",
    "print(df[[\"Method\", \"SpearmanR\", \"PearsonR\",\"Norm Fro N2\", \"Norm inf N2\", \"P@20\", \"P@40\", \"time(s)\" ]].groupby([\"Method\"]).mean().round(3).to_latex())\n"
   ]
  },
  {
   "cell_type": "code",
   "execution_count": 13,
   "metadata": {},
   "outputs": [
    {
     "name": "stdout",
     "output_type": "stream",
     "text": [
      "\\begin{tabular}{lrrrrrrr}\n",
      "\\toprule\n",
      "{} &  SpearmanR &  PearsonR &  Norm Fro N2 &  Norm inf N2 &   P@20 &   P@40 &  time(s) \\\\\n",
      "Method         &            &           &              &              &        &        &          \\\\\n",
      "\\midrule\n",
      "Euc            &      0.269 &     0.270 &        0.005 &        0.006 &  0.426 &  0.438 &    1.905 \\\\\n",
      "diff-map       &      0.142 &     0.214 &        0.002 &        0.003 &  0.419 &  0.392 &    5.638 \\\\\n",
      "euler-heat-geo &      0.879 &     0.730 &        0.007 &        0.008 &  0.407 &  0.434 &    2.851 \\\\\n",
      "heat-geo       &      0.535 &     0.474 &        0.137 &        0.139 &  0.423 &  0.442 &    2.304 \\\\\n",
      "heat-phate     &      0.443 &     0.525 &        0.306 &        0.307 &  0.312 &  0.309 &    3.570 \\\\\n",
      "mar-heat-geo   &      0.535 &     0.485 &        0.006 &        0.007 &  0.424 &  0.443 &    2.242 \\\\\n",
      "phate          &      0.482 &     0.541 &        0.105 &        0.105 &  0.314 &  0.311 &    7.088 \\\\\n",
      "shortest-path  &      0.890 &     0.896 &        0.017 &        0.024 &  0.424 &  0.437 &    3.215 \\\\\n",
      "\\bottomrule\n",
      "\\end{tabular}\n",
      "\n"
     ]
    },
    {
     "name": "stderr",
     "output_type": "stream",
     "text": [
      "/tmp/ipykernel_13170/1328819083.py:5: FutureWarning: In future versions `DataFrame.to_latex` is expected to utilise the base implementation of `Styler.to_latex` for formatting and rendering. The arguments signature may therefore change. It is recommended instead to use `DataFrame.style.to_latex` which also contains additional functionality.\n",
      "  print(df[[\"Method\", \"SpearmanR\", \"PearsonR\",\"Norm Fro N2\", \"Norm inf N2\", \"P@20\", \"P@40\", \"time(s)\" ]].groupby([\"Method\"]).mean().round(3).to_latex())\n"
     ]
    }
   ],
   "source": [
    "#python test_knn.py -m model=heat_geo,diff_map,euc,euler_heat,heat_phate,phate,shortest_path,heat_geo_mar \n",
    "#fit_args.order=10 n_seeds=10 name=knn_sampta fit_args.tau_min=2 fit_args.tau_max=2 fit_args.n_tau=1 fit_args.tau=2 \n",
    "#data=swiss_roll_high data.manifold_noise=0.05 data.rotate_dim=100\n",
    "df = load_results(\"/network/scratch/g/guillaume.huguet/projects/metric_embeddings/logs/experiments/multiruns/knn_sampta/2023-03-28_08-37-30\")\n",
    "print(df[[\"Method\", \"SpearmanR\", \"PearsonR\",\"Norm Fro N2\", \"Norm inf N2\", \"P@20\", \"P@40\", \"time(s)\" ]].groupby([\"Method\"]).mean().round(3).to_latex())\n"
   ]
  },
  {
   "cell_type": "code",
   "execution_count": 14,
   "metadata": {},
   "outputs": [
    {
     "name": "stdout",
     "output_type": "stream",
     "text": [
      "\\begin{tabular}{lrrrrrrr}\n",
      "\\toprule\n",
      "{} &  SpearmanR &  PearsonR &  Norm Fro N2 &  Norm inf N2 &   P@20 &   P@40 &  time(s) \\\\\n",
      "Method         &            &           &              &              &        &        &          \\\\\n",
      "\\midrule\n",
      "Euc            &      0.269 &     0.270 &        0.005 &        0.006 &  0.426 &  0.438 &    1.895 \\\\\n",
      "diff-map       &      0.142 &     0.214 &        0.002 &        0.003 &  0.419 &  0.392 &    5.582 \\\\\n",
      "euler-heat-geo &      0.604 &     0.409 &        0.009 &        0.009 &  0.426 &  0.445 &    2.713 \\\\\n",
      "heat-geo       &      0.535 &     0.481 &        0.137 &        0.139 &  0.425 &  0.445 &    2.263 \\\\\n",
      "heat-phate     &      0.453 &     0.530 &        0.311 &        0.312 &  0.313 &  0.311 &    3.542 \\\\\n",
      "mar-heat-geo   &      0.535 &     0.486 &        0.006 &        0.007 &  0.425 &  0.444 &    2.230 \\\\\n",
      "phate          &      0.506 &     0.556 &        0.108 &        0.106 &  0.309 &  0.307 &    7.425 \\\\\n",
      "shortest-path  &      0.890 &     0.896 &        0.017 &        0.024 &  0.424 &  0.437 &    3.253 \\\\\n",
      "\\bottomrule\n",
      "\\end{tabular}\n",
      "\n"
     ]
    },
    {
     "name": "stderr",
     "output_type": "stream",
     "text": [
      "/tmp/ipykernel_13170/2685010330.py:5: FutureWarning: In future versions `DataFrame.to_latex` is expected to utilise the base implementation of `Styler.to_latex` for formatting and rendering. The arguments signature may therefore change. It is recommended instead to use `DataFrame.style.to_latex` which also contains additional functionality.\n",
      "  print(df[[\"Method\", \"SpearmanR\", \"PearsonR\",\"Norm Fro N2\", \"Norm inf N2\", \"P@20\", \"P@40\", \"time(s)\" ]].groupby([\"Method\"]).mean().round(3).to_latex())\n"
     ]
    }
   ],
   "source": [
    "#python test_knn.py -m model=heat_geo,diff_map,euc,euler_heat,heat_phate,phate,shortest_path,heat_geo_mar fit_args.order=10 \n",
    "#n_seeds=10 name=knn_sampta fit_args.tau_min=2 fit_args.tau_max=2 fit_args.n_tau=1 fit_args.tau=2 data=swiss_roll_high \n",
    "#data.manifold_noise=0.05 data.rotate_dim=100 model.anisotropy=1\n",
    "df = load_results(\"/network/scratch/g/guillaume.huguet/projects/metric_embeddings/logs/experiments/multiruns/knn_sampta/2023-03-28_08-40-26\")\n",
    "print(df[[\"Method\", \"SpearmanR\", \"PearsonR\",\"Norm Fro N2\", \"Norm inf N2\", \"P@20\", \"P@40\", \"time(s)\" ]].groupby([\"Method\"]).mean().round(3).to_latex())"
   ]
  },
  {
   "cell_type": "code",
   "execution_count": 17,
   "metadata": {},
   "outputs": [
    {
     "name": "stdout",
     "output_type": "stream",
     "text": [
      "\\begin{tabular}{lrrrrrrr}\n",
      "\\toprule\n",
      "{} &  SpearmanR &  PearsonR &  Norm Fro N2 &  Norm inf N2 &   P@20 &   P@40 &  time(s) \\\\\n",
      "Method         &            &           &              &              &        &        &          \\\\\n",
      "\\midrule\n",
      "Euc            &      0.269 &     0.270 &        0.005 &        0.006 &  0.426 &  0.438 &    1.892 \\\\\n",
      "diff-map       &      0.142 &     0.214 &        0.002 &        0.003 &  0.419 &  0.392 &    6.146 \\\\\n",
      "euler-heat-geo &      0.879 &     0.730 &        0.007 &        0.008 &  0.407 &  0.434 &    2.806 \\\\\n",
      "heat-geo       &      0.535 &     0.474 &        0.137 &        0.139 &  0.423 &  0.442 &    2.334 \\\\\n",
      "heat-phate     &      0.443 &     0.525 &        0.306 &        0.307 &  0.312 &  0.309 &    3.510 \\\\\n",
      "mar-heat-geo   &      0.535 &     0.485 &        0.006 &        0.007 &  0.424 &  0.443 &    2.235 \\\\\n",
      "phate          &      0.482 &     0.541 &        0.105 &        0.105 &  0.314 &  0.311 &    7.435 \\\\\n",
      "shortest-path  &      0.890 &     0.896 &        0.017 &        0.024 &  0.424 &  0.437 &    3.230 \\\\\n",
      "\\bottomrule\n",
      "\\end{tabular}\n",
      "\n"
     ]
    },
    {
     "name": "stderr",
     "output_type": "stream",
     "text": [
      "/tmp/ipykernel_13170/4221956663.py:3: FutureWarning: In future versions `DataFrame.to_latex` is expected to utilise the base implementation of `Styler.to_latex` for formatting and rendering. The arguments signature may therefore change. It is recommended instead to use `DataFrame.style.to_latex` which also contains additional functionality.\n",
      "  print(df[[\"Method\", \"SpearmanR\", \"PearsonR\",\"Norm Fro N2\", \"Norm inf N2\", \"P@20\", \"P@40\", \"time(s)\" ]].groupby([\"Method\"]).mean().round(3).to_latex())\n"
     ]
    }
   ],
   "source": [
    "# made sure we are not using the landmarks.\n",
    "df = load_results(\"/network/scratch/g/guillaume.huguet/projects/metric_embeddings/logs/experiments/multiruns/knn_sampta/2023-03-28_08-45-12\")\n",
    "print(df[[\"Method\", \"SpearmanR\", \"PearsonR\",\"Norm Fro N2\", \"Norm inf N2\", \"P@20\", \"P@40\", \"time(s)\" ]].groupby([\"Method\"]).mean().round(3).to_latex())"
   ]
  },
  {
   "cell_type": "code",
   "execution_count": 18,
   "metadata": {},
   "outputs": [
    {
     "name": "stdout",
     "output_type": "stream",
     "text": [
      "\\begin{tabular}{lrrrrrrr}\n",
      "\\toprule\n",
      "{} &  SpearmanR &  PearsonR &  Norm Fro N2 &  Norm inf N2 &   P@20 &   P@40 &  time(s) \\\\\n",
      "Method         &            &           &              &              &        &        &          \\\\\n",
      "\\midrule\n",
      "Euc            &      0.388 &     0.338 &        0.021 &        0.023 &  0.610 &  0.774 &    0.249 \\\\\n",
      "diff-map       &      0.119 &     0.232 &        0.007 &        0.009 &  0.514 &  0.400 &    0.419 \\\\\n",
      "euler-heat-geo &      0.947 &     0.779 &        0.012 &        0.012 &  0.595 &  0.771 &    0.377 \\\\\n",
      "heat-geo       &      0.754 &     0.553 &        0.268 &        0.268 &  0.603 &  0.772 &    0.328 \\\\\n",
      "heat-phate     &      0.760 &     0.747 &        0.718 &        0.690 &  0.595 &  0.771 &    0.326 \\\\\n",
      "mar-heat-geo   &      0.839 &     0.554 &        0.017 &        0.018 &  0.602 &  0.772 &    0.334 \\\\\n",
      "phate          &      0.700 &     0.694 &        0.257 &        0.249 &  0.594 &  0.770 &    0.330 \\\\\n",
      "shortest-path  &      0.944 &     0.928 &        0.060 &        0.080 &  0.610 &  0.778 &    0.322 \\\\\n",
      "\\bottomrule\n",
      "\\end{tabular}\n",
      "\n"
     ]
    },
    {
     "name": "stderr",
     "output_type": "stream",
     "text": [
      "/tmp/ipykernel_13170/250144439.py:3: FutureWarning: In future versions `DataFrame.to_latex` is expected to utilise the base implementation of `Styler.to_latex` for formatting and rendering. The arguments signature may therefore change. It is recommended instead to use `DataFrame.style.to_latex` which also contains additional functionality.\n",
      "  print(df[[\"Method\", \"SpearmanR\", \"PearsonR\",\"Norm Fro N2\", \"Norm inf N2\", \"P@20\", \"P@40\", \"time(s)\" ]].groupby([\"Method\"]).mean().round(3).to_latex())\n"
     ]
    }
   ],
   "source": [
    "# reproducing initial results.\n",
    "df = load_results(\"/network/scratch/g/guillaume.huguet/projects/metric_embeddings/logs/experiments/multiruns/knn_sampta/2023-03-28_09-09-53\")\n",
    "print(df[[\"Method\", \"SpearmanR\", \"PearsonR\",\"Norm Fro N2\", \"Norm inf N2\", \"P@20\", \"P@40\", \"time(s)\" ]].groupby([\"Method\"]).mean().round(3).to_latex())"
   ]
  },
  {
   "cell_type": "code",
   "execution_count": 19,
   "metadata": {},
   "outputs": [
    {
     "name": "stdout",
     "output_type": "stream",
     "text": [
      "\\begin{tabular}{lrrrrrrr}\n",
      "\\toprule\n",
      "{} &  SpearmanR &  PearsonR &  Norm Fro N2 &  Norm inf N2 &   P@20 &   P@40 &  time(s) \\\\\n",
      "Method         &            &           &              &              &        &        &          \\\\\n",
      "\\midrule\n",
      "Euc            &      0.385 &     0.332 &        0.022 &        0.025 &  0.582 &  0.756 &    0.251 \\\\\n",
      "diff-map       &      0.123 &     0.225 &        0.007 &        0.009 &  0.509 &  0.415 &    0.377 \\\\\n",
      "euler-heat-geo &      0.960 &     0.836 &        0.011 &        0.011 &  0.571 &  0.757 &    0.394 \\\\\n",
      "heat-geo       &      0.788 &     0.607 &        0.263 &        0.267 &  0.578 &  0.759 &    0.330 \\\\\n",
      "heat-phate     &      0.813 &     0.800 &        0.749 &        0.721 &  0.574 &  0.759 &    0.328 \\\\\n",
      "mar-heat-geo   &      0.886 &     0.615 &        0.016 &        0.017 &  0.578 &  0.759 &    0.291 \\\\\n",
      "phate          &      0.703 &     0.703 &        0.258 &        0.250 &  0.574 &  0.757 &    0.425 \\\\\n",
      "shortest-path  &      0.916 &     0.897 &        0.057 &        0.074 &  0.582 &  0.762 &    0.329 \\\\\n",
      "\\bottomrule\n",
      "\\end{tabular}\n",
      "\n"
     ]
    },
    {
     "name": "stderr",
     "output_type": "stream",
     "text": [
      "/tmp/ipykernel_13170/1951605820.py:5: FutureWarning: In future versions `DataFrame.to_latex` is expected to utilise the base implementation of `Styler.to_latex` for formatting and rendering. The arguments signature may therefore change. It is recommended instead to use `DataFrame.style.to_latex` which also contains additional functionality.\n",
      "  print(df[[\"Method\", \"SpearmanR\", \"PearsonR\",\"Norm Fro N2\", \"Norm inf N2\", \"P@20\", \"P@40\", \"time(s)\" ]].groupby([\"Method\"]).mean().round(3).to_latex())\n"
     ]
    }
   ],
   "source": [
    "#python test_knn.py -m model=heat_geo,diff_map,euc,euler_heat,heat_phate,phate,shortest_path,heat_geo_mar fit_args.order=30 \n",
    "#n_seeds=10 name=knn_sampta fit_args.tau_min=1 fit_args.tau_max=1 fit_args.n_tau=1 fit_args.tau=1 data=swiss_roll_high \n",
    "#data.manifold_noise=0.5 data.rotate_dim=100 data.width=1 data.n_points=500\n",
    "df = load_results(\"/network/scratch/g/guillaume.huguet/projects/metric_embeddings/logs/experiments/multiruns/knn_sampta/2023-03-28_09-12-12\")\n",
    "print(df[[\"Method\", \"SpearmanR\", \"PearsonR\",\"Norm Fro N2\", \"Norm inf N2\", \"P@20\", \"P@40\", \"time(s)\" ]].groupby([\"Method\"]).mean().round(3).to_latex())"
   ]
  },
  {
   "cell_type": "code",
   "execution_count": 20,
   "metadata": {},
   "outputs": [
    {
     "name": "stdout",
     "output_type": "stream",
     "text": [
      "\\begin{tabular}{lrrrrrrr}\n",
      "\\toprule\n",
      "{} &  SpearmanR &  PearsonR &  Norm Fro N2 &  Norm inf N2 &   P@20 &   P@40 &  time(s) \\\\\n",
      "Method         &            &           &              &              &        &        &          \\\\\n",
      "\\midrule\n",
      "Euc            &      0.385 &     0.332 &        0.022 &        0.025 &  0.582 &  0.756 &    0.268 \\\\\n",
      "diff-map       &      0.414 &     0.489 &        0.007 &        0.009 &  0.573 &  0.756 &    0.424 \\\\\n",
      "euler-heat-geo &      0.521 &     0.447 &        0.005 &        0.007 &  0.352 &  0.565 &    0.774 \\\\\n",
      "heat-geo       &      0.473 &     0.368 &        0.131 &        0.137 &  0.564 &  0.756 &    0.443 \\\\\n",
      "heat-phate     &      0.408 &     0.366 &        0.152 &        0.165 &  0.570 &  0.749 &    0.439 \\\\\n",
      "mar-heat-geo   &      0.479 &     0.415 &        0.009 &        0.011 &  0.558 &  0.755 &    0.400 \\\\\n",
      "phate          &      0.447 &     0.409 &        0.064 &        0.071 &  0.567 &  0.742 &    0.420 \\\\\n",
      "shortest-path  &      0.393 &     0.312 &        0.026 &        0.030 &  0.582 &  0.756 &    0.406 \\\\\n",
      "\\bottomrule\n",
      "\\end{tabular}\n",
      "\n"
     ]
    },
    {
     "name": "stderr",
     "output_type": "stream",
     "text": [
      "/tmp/ipykernel_13170/3069029045.py:5: FutureWarning: In future versions `DataFrame.to_latex` is expected to utilise the base implementation of `Styler.to_latex` for formatting and rendering. The arguments signature may therefore change. It is recommended instead to use `DataFrame.style.to_latex` which also contains additional functionality.\n",
      "  print(df[[\"Method\", \"SpearmanR\", \"PearsonR\",\"Norm Fro N2\", \"Norm inf N2\", \"P@20\", \"P@40\", \"time(s)\" ]].groupby([\"Method\"]).mean().round(3).to_latex())\n"
     ]
    }
   ],
   "source": [
    "#python test_knn.py -m model=heat_geo,diff_map,euc,euler_heat,heat_phate,phate,shortest_path,heat_geo_mar fit_args.order=30 \n",
    "#n_seeds=10 name=knn_sampta fit_args.tau_min=1 fit_args.tau_max=1 fit_args.n_tau=1 fit_args.tau=1 data=swiss_roll_high \n",
    "#data.manifold_noise=0.5 data.rotate_dim=100 data.width=1 data.n_points=500 model.knn=50\n",
    "df = load_results(\"/network/scratch/g/guillaume.huguet/projects/metric_embeddings/logs/experiments/multiruns/knn_sampta/2023-03-28_09-31-28\")\n",
    "print(df[[\"Method\", \"SpearmanR\", \"PearsonR\",\"Norm Fro N2\", \"Norm inf N2\", \"P@20\", \"P@40\", \"time(s)\" ]].groupby([\"Method\"]).mean().round(3).to_latex())"
   ]
  },
  {
   "cell_type": "code",
   "execution_count": 21,
   "metadata": {},
   "outputs": [
    {
     "name": "stdout",
     "output_type": "stream",
     "text": [
      "\\begin{tabular}{lrrrrrrr}\n",
      "\\toprule\n",
      "{} &  SpearmanR &  PearsonR &  Norm Fro N2 &  Norm inf N2 &   P@20 &   P@40 &  time(s) \\\\\n",
      "Method         &            &           &              &              &        &        &          \\\\\n",
      "\\midrule\n",
      "Euc            &      0.388 &     0.338 &        0.021 &        0.023 &  0.610 &  0.774 &    0.270 \\\\\n",
      "diff-map       &      0.437 &     0.499 &        0.007 &        0.009 &  0.592 &  0.770 &    0.367 \\\\\n",
      "euler-heat-geo &      0.678 &     0.628 &        0.005 &        0.006 &  0.375 &  0.596 &    0.750 \\\\\n",
      "heat-geo       &      0.548 &     0.461 &        0.137 &        0.148 &  0.584 &  0.771 &    0.444 \\\\\n",
      "heat-phate     &      0.546 &     0.518 &        0.172 &        0.199 &  0.592 &  0.768 &    0.434 \\\\\n",
      "mar-heat-geo   &      0.554 &     0.505 &        0.010 &        0.011 &  0.577 &  0.770 &    0.402 \\\\\n",
      "phate          &      0.593 &     0.570 &        0.086 &        0.105 &  0.591 &  0.766 &    0.347 \\\\\n",
      "shortest-path  &      0.545 &     0.478 &        0.033 &        0.037 &  0.610 &  0.774 &    0.394 \\\\\n",
      "\\bottomrule\n",
      "\\end{tabular}\n",
      "\n"
     ]
    },
    {
     "name": "stderr",
     "output_type": "stream",
     "text": [
      "/tmp/ipykernel_13170/3686945646.py:5: FutureWarning: In future versions `DataFrame.to_latex` is expected to utilise the base implementation of `Styler.to_latex` for formatting and rendering. The arguments signature may therefore change. It is recommended instead to use `DataFrame.style.to_latex` which also contains additional functionality.\n",
      "  print(df[[\"Method\", \"SpearmanR\", \"PearsonR\",\"Norm Fro N2\", \"Norm inf N2\", \"P@20\", \"P@40\", \"time(s)\" ]].groupby([\"Method\"]).mean().round(3).to_latex())\n"
     ]
    }
   ],
   "source": [
    "#python test_knn.py -m model=heat_geo,diff_map,euc,euler_heat,heat_phate,phate,shortest_path,heat_geo_mar fit_args.order=30 \n",
    "#n_seeds=10 name=knn_sampta fit_args.tau_min=1 fit_args.tau_max=1 fit_args.n_tau=1 fit_args.tau=1 data=swiss_roll_high \n",
    "#data.manifold_noise=0.05 data.rotate_dim=100 data.width=1 data.n_points=500 model.knn=50\n",
    "df = load_results(\"/network/scratch/g/guillaume.huguet/projects/metric_embeddings/logs/experiments/multiruns/knn_sampta/2023-03-28_09-34-39\")\n",
    "print(df[[\"Method\", \"SpearmanR\", \"PearsonR\",\"Norm Fro N2\", \"Norm inf N2\", \"P@20\", \"P@40\", \"time(s)\" ]].groupby([\"Method\"]).mean().round(3).to_latex())"
   ]
  },
  {
   "cell_type": "code",
   "execution_count": 22,
   "metadata": {},
   "outputs": [
    {
     "name": "stdout",
     "output_type": "stream",
     "text": [
      "\\begin{tabular}{lrrrrrrr}\n",
      "\\toprule\n",
      "{} &  SpearmanR &  PearsonR &  Norm Fro N2 &  Norm inf N2 &   P@20 &   P@40 &  time(s) \\\\\n",
      "Method         &            &           &              &              &        &        &          \\\\\n",
      "\\midrule\n",
      "Euc            &      0.387 &     0.335 &        0.005 &        0.006 &  0.447 &  0.496 &    1.931 \\\\\n",
      "diff-map       &      0.137 &     0.259 &        0.002 &        0.002 &  0.343 &  0.454 &    5.724 \\\\\n",
      "euler-heat-geo &      0.998 &     0.966 &        0.002 &        0.002 &  0.297 &  0.424 &    8.958 \\\\\n",
      "heat-geo       &      0.790 &     0.583 &        0.066 &        0.067 &  0.340 &  0.476 &    4.665 \\\\\n",
      "heat-phate     &      0.798 &     0.787 &        0.362 &        0.345 &  0.324 &  0.446 &    6.018 \\\\\n",
      "mar-heat-geo   &      0.865 &     0.580 &        0.004 &        0.004 &  0.339 &  0.474 &    4.635 \\\\\n",
      "phate          &      0.724 &     0.717 &        0.118 &        0.114 &  0.324 &  0.446 &    7.681 \\\\\n",
      "shortest-path  &      0.988 &     0.978 &        0.016 &        0.023 &  0.447 &  0.496 &    4.538 \\\\\n",
      "\\bottomrule\n",
      "\\end{tabular}\n",
      "\n"
     ]
    },
    {
     "name": "stderr",
     "output_type": "stream",
     "text": [
      "/tmp/ipykernel_13170/3550874006.py:5: FutureWarning: In future versions `DataFrame.to_latex` is expected to utilise the base implementation of `Styler.to_latex` for formatting and rendering. The arguments signature may therefore change. It is recommended instead to use `DataFrame.style.to_latex` which also contains additional functionality.\n",
      "  print(df[[\"Method\", \"SpearmanR\", \"PearsonR\",\"Norm Fro N2\", \"Norm inf N2\", \"P@20\", \"P@40\", \"time(s)\" ]].groupby([\"Method\"]).mean().round(3).to_latex())\n"
     ]
    }
   ],
   "source": [
    "#python test_knn.py -m model=heat_geo,diff_map,euc,euler_heat,heat_phate,phate,shortest_path,heat_geo_mar fit_args.order=30 \n",
    "#n_seeds=10 name=knn_sampta fit_args.tau_min=1 fit_args.tau_max=1 fit_args.n_tau=1 fit_args.tau=1 data=swiss_roll_high \n",
    "#data.manifold_noise=0.05 data.rotate_dim=100 data.width=1 data.n_points=2000 model.knn=50\n",
    "df = load_results(\"/network/scratch/g/guillaume.huguet/projects/metric_embeddings/logs/experiments/multiruns/knn_sampta/2023-03-28_09-41-48\")\n",
    "print(df[[\"Method\", \"SpearmanR\", \"PearsonR\",\"Norm Fro N2\", \"Norm inf N2\", \"P@20\", \"P@40\", \"time(s)\" ]].groupby([\"Method\"]).mean().round(3).to_latex())"
   ]
  },
  {
   "cell_type": "code",
   "execution_count": null,
   "metadata": {},
   "outputs": [],
   "source": []
  },
  {
   "attachments": {},
   "cell_type": "markdown",
   "metadata": {},
   "source": [
    "KNN results"
   ]
  },
  {
   "cell_type": "code",
   "execution_count": 2,
   "metadata": {},
   "outputs": [],
   "source": [
    "def load_results(path):\n",
    "    results = pd.DataFrame()\n",
    "    for root, dirs, files in os.walk(path):\n",
    "        for filename in files:\n",
    "            if filename.endswith(\".pkl\"):\n",
    "                dt_current = pd.read_pickle(os.path.join(root, filename))\n",
    "                results = pd.concat([results,dt_current])\n",
    "    return results"
   ]
  },
  {
   "cell_type": "code",
   "execution_count": 8,
   "metadata": {},
   "outputs": [],
   "source": [
    "# ROTATION IN 100D manifold noise 0.05, 500 obs, anisotropy=1\n",
    "df = load_results(\"/network/scratch/g/guillaume.huguet/projects/metric_embeddings/logs/experiments/multiruns/default/2023-02-22_09-05-43\")"
   ]
  },
  {
   "cell_type": "code",
   "execution_count": 9,
   "metadata": {},
   "outputs": [
    {
     "name": "stdout",
     "output_type": "stream",
     "text": [
      "\\begin{tabular}{lrrrrrrrrr}\n",
      "\\toprule\n",
      "{} &  SpearmanR &  PearsonR &  Norm Fro &  Norm inf &  Norm Fro N2 &  Norm inf N2 &   P@20 &   P@40 &  time(s) \\\\\n",
      "Method         &            &           &           &           &              &              &        &        &          \\\\\n",
      "\\midrule\n",
      "Euc            &      0.388 &     0.338 &     2.747 &     2.389 &        0.021 &        0.023 &  0.610 &  0.774 &    0.389 \\\\\n",
      "diff-map       &      0.120 &     0.232 &     0.912 &     0.910 &        0.007 &        0.009 &  0.514 &  0.400 &    0.412 \\\\\n",
      "euler-heat-geo &      0.653 &     0.381 &     0.791 &     0.642 &        0.006 &        0.006 &  0.605 &  0.772 &    0.473 \\\\\n",
      "heat-geo       &      0.653 &     0.381 &     0.791 &     0.642 &        0.006 &        0.006 &  0.605 &  0.772 &    0.440 \\\\\n",
      "heat-phate     &      0.827 &     0.819 &    99.561 &    76.224 &        0.777 &        0.739 &  0.594 &  0.770 &    0.352 \\\\\n",
      "phate          &      0.719 &     0.712 &    33.559 &    25.982 &        0.262 &        0.252 &  0.594 &  0.770 &    0.433 \\\\\n",
      "shortest-path  &      0.545 &     0.478 &     4.174 &     3.802 &        0.033 &        0.037 &  0.610 &  0.774 &    0.520 \\\\\n",
      "\\bottomrule\n",
      "\\end{tabular}\n",
      "\n"
     ]
    },
    {
     "name": "stderr",
     "output_type": "stream",
     "text": [
      "/tmp/ipykernel_9478/880996089.py:1: FutureWarning: In future versions `DataFrame.to_latex` is expected to utilise the base implementation of `Styler.to_latex` for formatting and rendering. The arguments signature may therefore change. It is recommended instead to use `DataFrame.style.to_latex` which also contains additional functionality.\n",
      "  print(df[[\"Method\", \"SpearmanR\", \"PearsonR\", \"Norm Fro\", \"Norm inf\", \"Norm Fro N2\", \"Norm inf N2\", \"P@20\", \"P@40\", \"time(s)\" ]].groupby([\"Method\"]).mean().round(3).to_latex())\n"
     ]
    }
   ],
   "source": [
    "print(df[[\"Method\", \"SpearmanR\", \"PearsonR\", \"Norm Fro\", \"Norm inf\", \"Norm Fro N2\", \"Norm inf N2\", \"P@20\", \"P@40\", \"time(s)\" ]].groupby([\"Method\"]).mean().round(3).to_latex())"
   ]
  },
  {
   "cell_type": "code",
   "execution_count": 10,
   "metadata": {},
   "outputs": [],
   "source": [
    "# ROTATION IN 100D manifold noise 0.05, 500 obs, anisotropy=0\n",
    "df = load_results(\"/network/scratch/g/guillaume.huguet/projects/metric_embeddings/logs/experiments/multiruns/default/2023-02-22_09-11-08\")"
   ]
  },
  {
   "cell_type": "code",
   "execution_count": 13,
   "metadata": {},
   "outputs": [
    {
     "name": "stdout",
     "output_type": "stream",
     "text": [
      "\\begin{tabular}{lrrrrr}\n",
      "\\toprule\n",
      "{} &  SpearmanR &  PearsonR &  Norm Fro &  Norm inf &  time(s) \\\\\n",
      "Method         &            &           &           &           &          \\\\\n",
      "\\midrule\n",
      "Euc            &      0.388 &     0.338 &     2.747 &     2.389 &    0.292 \\\\\n",
      "diff-map       &      0.120 &     0.232 &     0.912 &     0.910 &    0.440 \\\\\n",
      "euler-heat-geo &      0.813 &     0.537 &     0.712 &     0.582 &    0.504 \\\\\n",
      "heat-geo       &      0.813 &     0.537 &     0.712 &     0.582 &    0.476 \\\\\n",
      "heat-phate     &      0.819 &     0.810 &    98.623 &    75.556 &    0.425 \\\\\n",
      "phate          &      0.700 &     0.694 &    32.917 &    25.629 &    0.745 \\\\\n",
      "shortest-path  &      0.545 &     0.478 &     4.174 &     3.802 &    0.729 \\\\\n",
      "\\bottomrule\n",
      "\\end{tabular}\n",
      "\n"
     ]
    },
    {
     "name": "stderr",
     "output_type": "stream",
     "text": [
      "/tmp/ipykernel_9478/1958278272.py:2: FutureWarning: In future versions `DataFrame.to_latex` is expected to utilise the base implementation of `Styler.to_latex` for formatting and rendering. The arguments signature may therefore change. It is recommended instead to use `DataFrame.style.to_latex` which also contains additional functionality.\n",
      "  print(df[[\"Method\", \"SpearmanR\", \"PearsonR\", \"Norm Fro\", \"Norm inf\", \"time(s)\" ]].groupby([\"Method\"]).mean().round(3).to_latex())\n"
     ]
    }
   ],
   "source": [
    "# print(df[[\"Method\", \"SpearmanR\", \"PearsonR\", \"Norm Fro\", \"Norm inf\", \"Norm Fro N2\", \"Norm inf N2\", \"P@20\", \"P@40\", \"time(s)\" ]].groupby([\"Method\"]).mean().round(3).to_latex())\n",
    "print(df[[\"Method\", \"SpearmanR\", \"PearsonR\", \"Norm Fro\", \"Norm inf\", \"time(s)\" ]].groupby([\"Method\"]).mean().round(3).to_latex())"
   ]
  },
  {
   "cell_type": "code",
   "execution_count": 14,
   "metadata": {},
   "outputs": [],
   "source": [
    "# NO rotation \n",
    "df = load_results(\"/network/scratch/g/guillaume.huguet/projects/metric_embeddings/logs/experiments/multiruns/default/2023-02-22_09-22-59\")"
   ]
  },
  {
   "cell_type": "code",
   "execution_count": 15,
   "metadata": {},
   "outputs": [
    {
     "name": "stdout",
     "output_type": "stream",
     "text": [
      "\\begin{tabular}{lrrrrr}\n",
      "\\toprule\n",
      "{} &  SpearmanR &  PearsonR &  Norm Fro &  Norm inf &  time(s) \\\\\n",
      "Method         &            &           &           &           &          \\\\\n",
      "\\midrule\n",
      "Euc            &      0.388 &     0.338 &     2.747 &     2.389 &    0.293 \\\\\n",
      "diff-map       &      0.120 &     0.232 &     0.912 &     0.910 &    0.835 \\\\\n",
      "euler-heat-geo &      0.813 &     0.537 &     0.712 &     0.582 &    0.485 \\\\\n",
      "heat-geo       &      0.813 &     0.537 &     0.712 &     0.582 &    0.591 \\\\\n",
      "heat-phate     &      0.819 &     0.810 &    98.623 &    75.556 &    0.371 \\\\\n",
      "phate          &      0.700 &     0.694 &    32.917 &    25.629 &    0.418 \\\\\n",
      "shortest-path  &      0.545 &     0.478 &     4.174 &     3.802 &    0.506 \\\\\n",
      "\\bottomrule\n",
      "\\end{tabular}\n",
      "\n"
     ]
    },
    {
     "name": "stderr",
     "output_type": "stream",
     "text": [
      "/tmp/ipykernel_9478/474493367.py:1: FutureWarning: In future versions `DataFrame.to_latex` is expected to utilise the base implementation of `Styler.to_latex` for formatting and rendering. The arguments signature may therefore change. It is recommended instead to use `DataFrame.style.to_latex` which also contains additional functionality.\n",
      "  print(df[[\"Method\", \"SpearmanR\", \"PearsonR\", \"Norm Fro\", \"Norm inf\", \"time(s)\" ]].groupby([\"Method\"]).mean().round(3).to_latex())\n"
     ]
    }
   ],
   "source": [
    "print(df[[\"Method\", \"SpearmanR\", \"PearsonR\", \"Norm Fro\", \"Norm inf\", \"time(s)\" ]].groupby([\"Method\"]).mean().round(3).to_latex())"
   ]
  },
  {
   "cell_type": "code",
   "execution_count": 16,
   "metadata": {},
   "outputs": [],
   "source": [
    "# NO rotation \n",
    "df = load_results(\"/network/scratch/g/guillaume.huguet/projects/metric_embeddings/logs/experiments/runs/default/2023-02-22_10-13-53\")"
   ]
  },
  {
   "cell_type": "code",
   "execution_count": 17,
   "metadata": {},
   "outputs": [
    {
     "data": {
      "text/html": [
       "<div>\n",
       "<style scoped>\n",
       "    .dataframe tbody tr th:only-of-type {\n",
       "        vertical-align: middle;\n",
       "    }\n",
       "\n",
       "    .dataframe tbody tr th {\n",
       "        vertical-align: top;\n",
       "    }\n",
       "\n",
       "    .dataframe thead th {\n",
       "        text-align: right;\n",
       "    }\n",
       "</style>\n",
       "<table border=\"1\" class=\"dataframe\">\n",
       "  <thead>\n",
       "    <tr style=\"text-align: right;\">\n",
       "      <th></th>\n",
       "      <th>Method</th>\n",
       "      <th>Seed</th>\n",
       "      <th># group</th>\n",
       "      <th>SpearmanR</th>\n",
       "      <th>PearsonR</th>\n",
       "      <th>P@5</th>\n",
       "      <th>P@10</th>\n",
       "      <th>P@20</th>\n",
       "      <th>P@30</th>\n",
       "      <th>P@40</th>\n",
       "      <th>P@50</th>\n",
       "      <th>Norm Fro</th>\n",
       "      <th>Norm inf</th>\n",
       "      <th>Norm Fro N2</th>\n",
       "      <th>Norm inf N2</th>\n",
       "      <th>time(s)</th>\n",
       "    </tr>\n",
       "  </thead>\n",
       "  <tbody>\n",
       "    <tr>\n",
       "      <th>0</th>\n",
       "      <td>heat-phate</td>\n",
       "      <td>42</td>\n",
       "      <td>500</td>\n",
       "      <td>0.795621</td>\n",
       "      <td>0.764580</td>\n",
       "      <td>0.3252</td>\n",
       "      <td>0.4594</td>\n",
       "      <td>0.5987</td>\n",
       "      <td>0.699333</td>\n",
       "      <td>0.77595</td>\n",
       "      <td>0.83292</td>\n",
       "      <td>90.598131</td>\n",
       "      <td>73.975319</td>\n",
       "      <td>0.724338</td>\n",
       "      <td>0.694884</td>\n",
       "      <td>0.437432</td>\n",
       "    </tr>\n",
       "    <tr>\n",
       "      <th>1</th>\n",
       "      <td>heat-phate</td>\n",
       "      <td>43</td>\n",
       "      <td>500</td>\n",
       "      <td>0.772462</td>\n",
       "      <td>0.755555</td>\n",
       "      <td>0.3176</td>\n",
       "      <td>0.4556</td>\n",
       "      <td>0.6068</td>\n",
       "      <td>0.706333</td>\n",
       "      <td>0.78495</td>\n",
       "      <td>0.84560</td>\n",
       "      <td>91.292930</td>\n",
       "      <td>71.691296</td>\n",
       "      <td>0.722941</td>\n",
       "      <td>0.692218</td>\n",
       "      <td>0.391653</td>\n",
       "    </tr>\n",
       "    <tr>\n",
       "      <th>2</th>\n",
       "      <td>heat-phate</td>\n",
       "      <td>44</td>\n",
       "      <td>500</td>\n",
       "      <td>0.725900</td>\n",
       "      <td>0.716764</td>\n",
       "      <td>0.3152</td>\n",
       "      <td>0.4594</td>\n",
       "      <td>0.6034</td>\n",
       "      <td>0.695467</td>\n",
       "      <td>0.76785</td>\n",
       "      <td>0.82020</td>\n",
       "      <td>92.922516</td>\n",
       "      <td>70.354682</td>\n",
       "      <td>0.709174</td>\n",
       "      <td>0.680427</td>\n",
       "      <td>0.370444</td>\n",
       "    </tr>\n",
       "    <tr>\n",
       "      <th>3</th>\n",
       "      <td>heat-phate</td>\n",
       "      <td>45</td>\n",
       "      <td>500</td>\n",
       "      <td>0.759879</td>\n",
       "      <td>0.746111</td>\n",
       "      <td>0.3420</td>\n",
       "      <td>0.4562</td>\n",
       "      <td>0.5976</td>\n",
       "      <td>0.694200</td>\n",
       "      <td>0.76810</td>\n",
       "      <td>0.82828</td>\n",
       "      <td>91.725708</td>\n",
       "      <td>73.143068</td>\n",
       "      <td>0.714629</td>\n",
       "      <td>0.687269</td>\n",
       "      <td>0.438729</td>\n",
       "    </tr>\n",
       "    <tr>\n",
       "      <th>4</th>\n",
       "      <td>heat-phate</td>\n",
       "      <td>46</td>\n",
       "      <td>500</td>\n",
       "      <td>0.786880</td>\n",
       "      <td>0.764143</td>\n",
       "      <td>0.3576</td>\n",
       "      <td>0.4722</td>\n",
       "      <td>0.5973</td>\n",
       "      <td>0.694867</td>\n",
       "      <td>0.77150</td>\n",
       "      <td>0.82944</td>\n",
       "      <td>91.567191</td>\n",
       "      <td>67.914347</td>\n",
       "      <td>0.726147</td>\n",
       "      <td>0.695559</td>\n",
       "      <td>0.374199</td>\n",
       "    </tr>\n",
       "    <tr>\n",
       "      <th>5</th>\n",
       "      <td>heat-phate</td>\n",
       "      <td>47</td>\n",
       "      <td>500</td>\n",
       "      <td>0.742331</td>\n",
       "      <td>0.742448</td>\n",
       "      <td>0.3356</td>\n",
       "      <td>0.4576</td>\n",
       "      <td>0.5855</td>\n",
       "      <td>0.687800</td>\n",
       "      <td>0.77250</td>\n",
       "      <td>0.83248</td>\n",
       "      <td>91.222444</td>\n",
       "      <td>68.287805</td>\n",
       "      <td>0.714882</td>\n",
       "      <td>0.688253</td>\n",
       "      <td>0.581641</td>\n",
       "    </tr>\n",
       "    <tr>\n",
       "      <th>6</th>\n",
       "      <td>heat-phate</td>\n",
       "      <td>48</td>\n",
       "      <td>500</td>\n",
       "      <td>0.732099</td>\n",
       "      <td>0.740572</td>\n",
       "      <td>0.3160</td>\n",
       "      <td>0.4514</td>\n",
       "      <td>0.5994</td>\n",
       "      <td>0.701933</td>\n",
       "      <td>0.77230</td>\n",
       "      <td>0.83288</td>\n",
       "      <td>93.680428</td>\n",
       "      <td>72.632810</td>\n",
       "      <td>0.720055</td>\n",
       "      <td>0.689700</td>\n",
       "      <td>0.393452</td>\n",
       "    </tr>\n",
       "    <tr>\n",
       "      <th>7</th>\n",
       "      <td>heat-phate</td>\n",
       "      <td>49</td>\n",
       "      <td>500</td>\n",
       "      <td>0.749913</td>\n",
       "      <td>0.741562</td>\n",
       "      <td>0.3212</td>\n",
       "      <td>0.4470</td>\n",
       "      <td>0.5899</td>\n",
       "      <td>0.691200</td>\n",
       "      <td>0.77195</td>\n",
       "      <td>0.83696</td>\n",
       "      <td>89.575597</td>\n",
       "      <td>70.210820</td>\n",
       "      <td>0.711144</td>\n",
       "      <td>0.684183</td>\n",
       "      <td>0.374606</td>\n",
       "    </tr>\n",
       "    <tr>\n",
       "      <th>8</th>\n",
       "      <td>heat-phate</td>\n",
       "      <td>50</td>\n",
       "      <td>500</td>\n",
       "      <td>0.773992</td>\n",
       "      <td>0.746077</td>\n",
       "      <td>0.3220</td>\n",
       "      <td>0.4494</td>\n",
       "      <td>0.5768</td>\n",
       "      <td>0.682800</td>\n",
       "      <td>0.76800</td>\n",
       "      <td>0.82288</td>\n",
       "      <td>94.878405</td>\n",
       "      <td>71.868216</td>\n",
       "      <td>0.719844</td>\n",
       "      <td>0.690970</td>\n",
       "      <td>0.430007</td>\n",
       "    </tr>\n",
       "    <tr>\n",
       "      <th>9</th>\n",
       "      <td>heat-phate</td>\n",
       "      <td>51</td>\n",
       "      <td>500</td>\n",
       "      <td>0.759475</td>\n",
       "      <td>0.752650</td>\n",
       "      <td>0.3316</td>\n",
       "      <td>0.4492</td>\n",
       "      <td>0.5911</td>\n",
       "      <td>0.688200</td>\n",
       "      <td>0.75995</td>\n",
       "      <td>0.81820</td>\n",
       "      <td>92.886597</td>\n",
       "      <td>70.859104</td>\n",
       "      <td>0.721251</td>\n",
       "      <td>0.692129</td>\n",
       "      <td>0.373599</td>\n",
       "    </tr>\n",
       "  </tbody>\n",
       "</table>\n",
       "</div>"
      ],
      "text/plain": [
       "       Method Seed # group  SpearmanR  PearsonR     P@5    P@10    P@20  \\\n",
       "0  heat-phate   42     500   0.795621  0.764580  0.3252  0.4594  0.5987   \n",
       "1  heat-phate   43     500   0.772462  0.755555  0.3176  0.4556  0.6068   \n",
       "2  heat-phate   44     500   0.725900  0.716764  0.3152  0.4594  0.6034   \n",
       "3  heat-phate   45     500   0.759879  0.746111  0.3420  0.4562  0.5976   \n",
       "4  heat-phate   46     500   0.786880  0.764143  0.3576  0.4722  0.5973   \n",
       "5  heat-phate   47     500   0.742331  0.742448  0.3356  0.4576  0.5855   \n",
       "6  heat-phate   48     500   0.732099  0.740572  0.3160  0.4514  0.5994   \n",
       "7  heat-phate   49     500   0.749913  0.741562  0.3212  0.4470  0.5899   \n",
       "8  heat-phate   50     500   0.773992  0.746077  0.3220  0.4494  0.5768   \n",
       "9  heat-phate   51     500   0.759475  0.752650  0.3316  0.4492  0.5911   \n",
       "\n",
       "       P@30     P@40     P@50   Norm Fro   Norm inf  Norm Fro N2  Norm inf N2  \\\n",
       "0  0.699333  0.77595  0.83292  90.598131  73.975319     0.724338     0.694884   \n",
       "1  0.706333  0.78495  0.84560  91.292930  71.691296     0.722941     0.692218   \n",
       "2  0.695467  0.76785  0.82020  92.922516  70.354682     0.709174     0.680427   \n",
       "3  0.694200  0.76810  0.82828  91.725708  73.143068     0.714629     0.687269   \n",
       "4  0.694867  0.77150  0.82944  91.567191  67.914347     0.726147     0.695559   \n",
       "5  0.687800  0.77250  0.83248  91.222444  68.287805     0.714882     0.688253   \n",
       "6  0.701933  0.77230  0.83288  93.680428  72.632810     0.720055     0.689700   \n",
       "7  0.691200  0.77195  0.83696  89.575597  70.210820     0.711144     0.684183   \n",
       "8  0.682800  0.76800  0.82288  94.878405  71.868216     0.719844     0.690970   \n",
       "9  0.688200  0.75995  0.81820  92.886597  70.859104     0.721251     0.692129   \n",
       "\n",
       "    time(s)  \n",
       "0  0.437432  \n",
       "1  0.391653  \n",
       "2  0.370444  \n",
       "3  0.438729  \n",
       "4  0.374199  \n",
       "5  0.581641  \n",
       "6  0.393452  \n",
       "7  0.374606  \n",
       "8  0.430007  \n",
       "9  0.373599  "
      ]
     },
     "execution_count": 17,
     "metadata": {},
     "output_type": "execute_result"
    }
   ],
   "source": [
    "df"
   ]
  },
  {
   "cell_type": "code",
   "execution_count": 18,
   "metadata": {},
   "outputs": [
    {
     "name": "stdout",
     "output_type": "stream",
     "text": [
      "\\begin{tabular}{lrrrrr}\n",
      "\\toprule\n",
      "{} &  SpearmanR &  PearsonR &  Norm Fro &  Norm inf &  time(s) \\\\\n",
      "Method     &            &           &           &           &          \\\\\n",
      "\\midrule\n",
      "heat-phate &       0.76 &     0.747 &    92.035 &    71.094 &    0.417 \\\\\n",
      "\\bottomrule\n",
      "\\end{tabular}\n",
      "\n"
     ]
    },
    {
     "name": "stderr",
     "output_type": "stream",
     "text": [
      "/tmp/ipykernel_9478/474493367.py:1: FutureWarning: In future versions `DataFrame.to_latex` is expected to utilise the base implementation of `Styler.to_latex` for formatting and rendering. The arguments signature may therefore change. It is recommended instead to use `DataFrame.style.to_latex` which also contains additional functionality.\n",
      "  print(df[[\"Method\", \"SpearmanR\", \"PearsonR\", \"Norm Fro\", \"Norm inf\", \"time(s)\" ]].groupby([\"Method\"]).mean().round(3).to_latex())\n"
     ]
    }
   ],
   "source": [
    "print(df[[\"Method\", \"SpearmanR\", \"PearsonR\", \"Norm Fro\", \"Norm inf\", \"time(s)\" ]].groupby([\"Method\"]).mean().round(3).to_latex())"
   ]
  },
  {
   "cell_type": "code",
   "execution_count": 22,
   "metadata": {},
   "outputs": [],
   "source": [
    "df = load_results(\"/network/scratch/g/guillaume.huguet/projects/metric_embeddings/logs/experiments/runs/default/2023-02-22_10-15-59\")"
   ]
  },
  {
   "cell_type": "code",
   "execution_count": 23,
   "metadata": {},
   "outputs": [
    {
     "name": "stdout",
     "output_type": "stream",
     "text": [
      "\\begin{tabular}{lrrrrr}\n",
      "\\toprule\n",
      "{} &  SpearmanR &  PearsonR &  Norm Fro &  Norm inf &  time(s) \\\\\n",
      "Method     &            &           &           &           &          \\\\\n",
      "\\midrule\n",
      "heat-phate &      0.894 &     0.894 &   111.579 &    86.896 &      0.4 \\\\\n",
      "\\bottomrule\n",
      "\\end{tabular}\n",
      "\n"
     ]
    },
    {
     "name": "stderr",
     "output_type": "stream",
     "text": [
      "/tmp/ipykernel_9478/474493367.py:1: FutureWarning: In future versions `DataFrame.to_latex` is expected to utilise the base implementation of `Styler.to_latex` for formatting and rendering. The arguments signature may therefore change. It is recommended instead to use `DataFrame.style.to_latex` which also contains additional functionality.\n",
      "  print(df[[\"Method\", \"SpearmanR\", \"PearsonR\", \"Norm Fro\", \"Norm inf\", \"time(s)\" ]].groupby([\"Method\"]).mean().round(3).to_latex())\n"
     ]
    }
   ],
   "source": [
    "print(df[[\"Method\", \"SpearmanR\", \"PearsonR\", \"Norm Fro\", \"Norm inf\", \"time(s)\" ]].groupby([\"Method\"]).mean().round(3).to_latex())"
   ]
  },
  {
   "attachments": {},
   "cell_type": "markdown",
   "metadata": {},
   "source": [
    "comparing phate with random walk and phate with heat kernel."
   ]
  },
  {
   "cell_type": "code",
   "execution_count": 68,
   "metadata": {},
   "outputs": [],
   "source": [
    "df = load_results(\"/network/scratch/g/guillaume.huguet/projects/metric_embeddings/logs/experiments/multiruns/default/2023-02-22_11-42-12\")"
   ]
  },
  {
   "cell_type": "code",
   "execution_count": 69,
   "metadata": {},
   "outputs": [],
   "source": [
    "s_df = df[[\"Method\", \"tau\",\"SpearmanR\"]]\n",
    "mean = s_df.groupby([\"tau\",\"Method\"]).mean().round(3).reset_index()\n",
    "std = s_df.groupby([\"tau\",\"Method\"]).std().round(3).reset_index()\n",
    "\n",
    "taus = [20,40,60,80,100]\n",
    "mean = mean.pivot(index=\"Method\", columns=\"tau\", values=\"SpearmanR\")[taus]\n",
    "std = std.pivot(index=\"Method\", columns=\"tau\", values=\"SpearmanR\")[taus]"
   ]
  },
  {
   "cell_type": "code",
   "execution_count": 70,
   "metadata": {},
   "outputs": [
    {
     "name": "stdout",
     "output_type": "stream",
     "text": [
      "\\begin{tabular}{llllll}\n",
      "\\toprule\n",
      "tau &                20  &                40  &                60  &              80  &                100 \\\\\n",
      "Method     &                    &                    &                    &                  &                    \\\\\n",
      "\\midrule\n",
      "heat-phate &  0.819 $\\pm$ 0.024 &  0.867 $\\pm$ 0.032 &  0.883 $\\pm$ 0.037 &  0.89 $\\pm$ 0.04 &  0.894 $\\pm$ 0.041 \\\\\n",
      "phate      &  0.681 $\\pm$ 0.034 &  0.774 $\\pm$ 0.028 &   0.82 $\\pm$ 0.027 &  0.85 $\\pm$ 0.03 &  0.871 $\\pm$ 0.034 \\\\\n",
      "\\bottomrule\n",
      "\\end{tabular}\n",
      "\n"
     ]
    },
    {
     "name": "stderr",
     "output_type": "stream",
     "text": [
      "/tmp/ipykernel_47932/2958781455.py:1: FutureWarning: In future versions `DataFrame.to_latex` is expected to utilise the base implementation of `Styler.to_latex` for formatting and rendering. The arguments signature may therefore change. It is recommended instead to use `DataFrame.style.to_latex` which also contains additional functionality.\n",
      "  print((mean.astype(str) + \" $\\pm$ \" + std.astype(str)).to_latex(escape=False))\n"
     ]
    }
   ],
   "source": [
    "print((mean.astype(str) + \" $\\pm$ \" + std.astype(str)).to_latex(escape=False))"
   ]
  }
 ],
 "metadata": {
  "kernelspec": {
   "display_name": "metric_emb",
   "language": "python",
   "name": "metric_emb"
  },
  "language_info": {
   "codemirror_mode": {
    "name": "ipython",
    "version": 3
   },
   "file_extension": ".py",
   "mimetype": "text/x-python",
   "name": "python",
   "nbconvert_exporter": "python",
   "pygments_lexer": "ipython3",
   "version": "3.10.6"
  },
  "orig_nbformat": 4,
  "vscode": {
   "interpreter": {
    "hash": "4a32b8ce1d8a7cc8940ec0fbf84ac7f0e06291324aa09cbfc1497fc150849df3"
   }
  }
 },
 "nbformat": 4,
 "nbformat_minor": 2
}
