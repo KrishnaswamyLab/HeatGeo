{
 "cells": [
  {
   "attachments": {},
   "cell_type": "markdown",
   "metadata": {},
   "source": [
    "## Start with HeatGeo"
   ]
  },
  {
   "attachments": {},
   "cell_type": "markdown",
   "metadata": {},
   "source": [
    "The Heat-Geodesic embedding preserves the heat-geodesic dissimilarity defined as\n",
    "$$\n",
    "d_t(x_i,x_j) = \\bigg[ -4t \\log (\\mathbf{H}_t)_{ij} - \\sigma 4 t \\log(\\mathbf{V})_{ij} \\bigg] ^{1/2},\n",
    "$$\n",
    "where $\\mathbf{H}_t$ is a heat kernel on a graph, and $\\mathbf{V}$ is a volume regularization term. This dissimilarity is inspired by Varadhan's formula which relates the heat kernel to the geodesic distance on a manifold. For more details on the heat-geodesic dissimilarity read our preprint [A Heat Diffusion Perspective on Geodesic Preserving Dimensionality Reduction](https://arxiv.org/abs/2305.19043)."
   ]
  },
  {
   "attachments": {},
   "cell_type": "markdown",
   "metadata": {},
   "source": [
    ":::{.callout-note}\n",
    "We are currently updating this repository to provide examples and improve the documentation. \n",
    ":::"
   ]
  },
  {
   "attachments": {},
   "cell_type": "markdown",
   "metadata": {},
   "source": [
    "## Install"
   ]
  },
  {
   "attachments": {},
   "cell_type": "markdown",
   "metadata": {},
   "source": [
    "The package is available on PyPI, you can install it by running\n",
    "```sh\n",
    "pip install heatgeo\n",
    "```\n",
    "To reproduce the results in `experiments/` or try the embeddings with different graph constructions, you need additional packages that can be installed via the development version. In this case run\n",
    "```sh\n",
    "pip install heatgeo['dev']\n",
    "```\n",
    "\n",
    "We provide an example below."
   ]
  },
  {
   "attachments": {},
   "cell_type": "markdown",
   "metadata": {},
   "source": [
    "## How to use\n",
    "To create the embedding of a dataset `data`, run\n",
    "```python\n",
    "from heatgeo.embedding import HeatGeo\n",
    "emb_op = HeatGeo(knn=5)\n",
    "emb = emb_op.fit_transform(data)\n",
    "```\n",
    "\n",
    "We provide a Google colab example on the swiss roll [![Run in Google Colab](https://img.shields.io/static/v1?label=Run%20in&message=Google%20Colab&color=orange&logo=Google%20Cloud)](https://colab.research.google.com/drive/1SkxGfWz8KLQpcea9MsdP7QEoe-yh5Iai?usp=sharing)\n",
    "\n",
    "The directory `experiments` contains code to reproduce our main results. We used `hydra`, the parameters can be changed in `config` or directly in the CLI. \n",
    "In `notebooks`, we provide examples on toy datasets.\n"
   ]
  },
  {
   "attachments": {},
   "cell_type": "markdown",
   "metadata": {},
   "source": [
    "## Contributing\n",
    "\n",
    "We are using `nbdev` for this package and the documentation. See this [introduction](https://nbdev.fast.ai/tutorials/tutorial.html) to start using `nbdev`. The code and documentation should be modified in the notebooks `nbs/`, then run `nbdev_prepare` before a commit. This command will export the notebooks to `.py` files in `heatgeo`, it will also clean the metadata, and run some test. The page will then automatically be deployed through GitHub actions."
   ]
  },
  {
   "attachments": {},
   "cell_type": "markdown",
   "metadata": {},
   "source": [
    "## Acknowledgements\n",
    "This repository is a simplified version of a larger codebase used for development. It loses the original commit history which contains contributions from other authors of the paper.\n",
    "This repository uses or modify code from the PHATE [implementation](https://github.com/KrishnaswamyLab/PHATE), and the Chebychev polynomials [implementation](https://github.com/sibyllema/Fast-Multiscale-Diffusion-on-Graphs) of the paper [Fast Multiscale Diffusion on Graphs](https://arxiv.org/abs/2104.14652). "
   ]
  }
 ],
 "metadata": {
  "kernelspec": {
   "display_name": "python3",
   "language": "python",
   "name": "python3"
  }
 },
 "nbformat": 4,
 "nbformat_minor": 4
}
