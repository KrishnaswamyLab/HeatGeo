{
 "cells": [
  {
   "attachments": {},
   "cell_type": "markdown",
   "metadata": {},
   "source": [
    "# HeatGeo\n",
    "\n",
    "> Implementation of the heat geodesic embeddings."
   ]
  },
  {
   "attachments": {},
   "cell_type": "markdown",
   "metadata": {},
   "source": [
    "We are currently updating this repository to provide examples and improve the documentation. "
   ]
  },
  {
   "attachments": {},
   "cell_type": "markdown",
   "metadata": {},
   "source": [
    "## Install"
   ]
  },
  {
   "attachments": {},
   "cell_type": "markdown",
   "metadata": {},
   "source": [
    "The package is not yet available with pip or conda. To install it, you can clone this repo and install from `setup.py`.\n",
    "```sh\n",
    "cd HeatGeo\n",
    "pip install -e .\n",
    "```\n",
    "To reproduce the results in `experiments/` or try the embeddings with different graph constructions, you need additional packages that can be installed via the development version. In this case run\n",
    "```sh\n",
    "cd HeatGeo\n",
    "pip install -e '.[dev]'\n",
    "```"
   ]
  },
  {
   "attachments": {},
   "cell_type": "markdown",
   "metadata": {},
   "source": [
    "### How to use\n",
    "Google colab example on the swiss roll [![Run in Google Colab](https://img.shields.io/static/v1?label=Run%20in&message=Google%20Colab&color=orange&logo=Google%20Cloud)](https://colab.research.google.com/drive/1SkxGfWz8KLQpcea9MsdP7QEoe-yh5Iai?usp=sharing)\n",
    "\n",
    "The directory `experiments` contains code to reproduce our main results. We used `hydra`, the parameters can be changed in `config` or directly in the CLI. \n",
    "In `notebooks`, we provide examples on toy datasets.\n"
   ]
  },
  {
   "attachments": {},
   "cell_type": "markdown",
   "metadata": {},
   "source": [
    "### Acknowledgements\n",
    "This repository is a simplified version of a larger codebase used for development. It loses the original commit history which contains contributions other authors of the paper.\n",
    "This repository uses or modify code from the PHATE implementation https://github.com/KrishnaswamyLab/PHATE, and the Chebychev polynomials implementation https://github.com/sibyllema/Fast-Multiscale-Diffusion-on-Graphs. "
   ]
  }
 ],
 "metadata": {
  "kernelspec": {
   "display_name": "python3",
   "language": "python",
   "name": "python3"
  }
 },
 "nbformat": 4,
 "nbformat_minor": 4
}
