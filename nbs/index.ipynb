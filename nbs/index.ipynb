{
 "cells": [
  {
   "attachments": {},
   "cell_type": "markdown",
   "metadata": {},
   "source": [
    "# HeatGeo\n",
    "\n",
    "> Implementation of the heat geodesic embeddings."
   ]
  },
  {
   "attachments": {},
   "cell_type": "markdown",
   "metadata": {},
   "source": [
    "We are currently updating this repository to provide examples and improve the documentation. "
   ]
  },
  {
   "attachments": {},
   "cell_type": "markdown",
   "metadata": {},
   "source": [
    "## Install"
   ]
  },
  {
   "attachments": {},
   "cell_type": "markdown",
   "metadata": {},
   "source": [
    "The package is not yet available with pip or conda. To install it, you can clone this repo and install from `setup.py`.\n",
    "```sh\n",
    "cd heatgeo\n",
    "pip install -e .\n",
    "```\n",
    "To reproduce the results in `experiments/` or try the embeddings with different graph constructions, you need additional packages that can be installed via the devellopement version. In this case run\n",
    "```sh\n",
    "cd heatgeo\n",
    "pip install -e '.[dev]'\n",
    "```"
   ]
  },
  {
   "attachments": {},
   "cell_type": "markdown",
   "metadata": {},
   "source": [
    "### How to use\n",
    "The directory `experiments` contains code to reproduce our main results. We used `hydra`, the parameters can be changed in `config` or directly in the CLI. \n",
    "In `notebooks`, we provide examples on toy datasets."
   ]
  },
  {
   "attachments": {},
   "cell_type": "markdown",
   "metadata": {},
   "source": [
    "### Acknowledgements\n",
    "This repository uses or modify code from the PHATE implementation https://github.com/KrishnaswamyLab/PHATE, and the Chebychev polynomials implementation https://github.com/sibyllema/Fast-Multiscale-Diffusion-on-Graphs. "
   ]
  }
 ],
 "metadata": {
  "kernelspec": {
   "display_name": "python3",
   "language": "python",
   "name": "python3"
  }
 },
 "nbformat": 4,
 "nbformat_minor": 4
}
